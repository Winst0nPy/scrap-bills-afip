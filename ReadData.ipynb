{
 "cells": [
  {
   "cell_type": "code",
   "execution_count": 1,
   "metadata": {
    "collapsed": true
   },
   "outputs": [
    {
     "name": "stdout",
     "output_type": "stream",
     "text": [
      "0 .\\test\\FA. 1045. CELA SA - Equipos DAIKIN.pdf \n",
      "\n"
     ]
    },
    {
     "data": {
      "text/plain": "<IPython.core.display.HTML object>",
      "text/html": "<table border=\"1\" class=\"dataframe\">\n  <thead>\n    <tr style=\"text-align: right;\">\n      <th></th>\n      <th>tipo_factura</th>\n      <th>fecha</th>\n      <th>punto_venta</th>\n      <th>nro_factura</th>\n      <th>cuit_emisor</th>\n      <th>razon_social_emisor</th>\n      <th>cuit_cliente</th>\n      <th>razon_social</th>\n      <th>moneda</th>\n      <th>tipo_cambio</th>\n      <th>articulos</th>\n      <th>total</th>\n    </tr>\n  </thead>\n  <tbody>\n    <tr>\n      <th>0</th>\n      <td>FA</td>\n      <td>23/03/2022</td>\n      <td>00003</td>\n      <td>00001045</td>\n      <td>30712226028</td>\n      <td>TERMO-OBRAS SOCIEDAD ANONIMA</td>\n      <td>30694683734</td>\n      <td>CELA S.A.</td>\n      <td>USD</td>\n      <td>115.5</td>\n      <td>{'codigo': '', 'producto_servicio': 'Presupuesto nro. 7123-02-22. Equipos de aire acondicionado marca DAIKIN para sector de casino.', 'cantidad': '1,00', 'unidad_medida': 'unidades', 'precio_unitario': 41185.0, '%_bonificacion': '0,00', 'subtotal': 41185.0, 'alicuota_iva': '10,5%', 'subtotal_con_iva': 45509.42}</td>\n      <td>5256338.01</td>\n    </tr>\n  </tbody>\n</table>"
     },
     "metadata": {},
     "output_type": "display_data"
    },
    {
     "name": "stdout",
     "output_type": "stream",
     "text": [
      "1 .\\test\\FA. 1097. Omint SA - Mantenimiento.pdf \n",
      "\n"
     ]
    },
    {
     "data": {
      "text/plain": "<IPython.core.display.HTML object>",
      "text/html": "<table border=\"1\" class=\"dataframe\">\n  <thead>\n    <tr style=\"text-align: right;\">\n      <th></th>\n      <th>tipo_factura</th>\n      <th>fecha</th>\n      <th>punto_venta</th>\n      <th>nro_factura</th>\n      <th>cuit_emisor</th>\n      <th>razon_social_emisor</th>\n      <th>cuit_cliente</th>\n      <th>razon_social</th>\n      <th>moneda</th>\n      <th>tipo_cambio</th>\n      <th>articulos</th>\n      <th>total</th>\n    </tr>\n  </thead>\n  <tbody>\n    <tr>\n      <th>0</th>\n      <td>FA</td>\n      <td>27/07/2022</td>\n      <td>00003</td>\n      <td>00001097</td>\n      <td>30712226028</td>\n      <td>TERMO-OBRAS SOCIEDAD ANONIMA</td>\n      <td>30550245309</td>\n      <td>OMINT SOCIEDAD ANONIMA DE SERVICIOS</td>\n      <td>ARS</td>\n      <td></td>\n      <td>{'codigo': '', 'producto_servicio': 'Orden de servicio nro. 1255 Mantenimiento preventivo y correctivo.', 'cantidad': '1,00', 'unidad_medida': 'unidades', 'precio_unitario': 25000.0, '%_bonificacion': '0,00', 'subtotal': 25000.0, 'alicuota_iva': '21%', 'subtotal_con_iva': 30250.0}</td>\n      <td>30250.0</td>\n    </tr>\n  </tbody>\n</table>"
     },
     "metadata": {},
     "output_type": "display_data"
    },
    {
     "name": "stdout",
     "output_type": "stream",
     "text": [
      "2 .\\test\\FA. 1100. Las Moras SA - OS 1261.pdf \n",
      "\n"
     ]
    },
    {
     "data": {
      "text/plain": "<IPython.core.display.HTML object>",
      "text/html": "<table border=\"1\" class=\"dataframe\">\n  <thead>\n    <tr style=\"text-align: right;\">\n      <th></th>\n      <th>tipo_factura</th>\n      <th>fecha</th>\n      <th>punto_venta</th>\n      <th>nro_factura</th>\n      <th>cuit_emisor</th>\n      <th>razon_social_emisor</th>\n      <th>cuit_cliente</th>\n      <th>razon_social</th>\n      <th>moneda</th>\n      <th>tipo_cambio</th>\n      <th>articulos</th>\n      <th>total</th>\n    </tr>\n  </thead>\n  <tbody>\n    <tr>\n      <th>0</th>\n      <td>FA</td>\n      <td>29/07/2022</td>\n      <td>00003</td>\n      <td>00001100</td>\n      <td>30712226028</td>\n      <td>TERMO-OBRAS SOCIEDAD ANONIMA</td>\n      <td>30646160126</td>\n      <td>LAS MORAS SOCIEDAD ANONIMA</td>\n      <td>ARS</td>\n      <td></td>\n      <td>{'codigo': '', 'producto_servicio': 'Orden de servicio nro. 1261 Cambio de tanque de expansión y transductor de presión  puesta en marcha y control de funcionamiento', 'cantidad': '1,00', 'unidad_medida': 'unidades', 'precio_unitario': 49272.75, '%_bonificacion': '0,00', 'subtotal': 49272.75, 'alicuota_iva': '21%', 'subtotal_con_iva': 59620.03}</td>\n      <td>59620.03</td>\n    </tr>\n  </tbody>\n</table>"
     },
     "metadata": {},
     "output_type": "display_data"
    },
    {
     "name": "stdout",
     "output_type": "stream",
     "text": [
      "3 .\\test\\FA. 1102. Diplomatic Service SA - Reparaciones en Hotel Item 1.pdf \n",
      "\n"
     ]
    },
    {
     "data": {
      "text/plain": "<IPython.core.display.HTML object>",
      "text/html": "<table border=\"1\" class=\"dataframe\">\n  <thead>\n    <tr style=\"text-align: right;\">\n      <th></th>\n      <th>tipo_factura</th>\n      <th>fecha</th>\n      <th>punto_venta</th>\n      <th>nro_factura</th>\n      <th>cuit_emisor</th>\n      <th>razon_social_emisor</th>\n      <th>cuit_cliente</th>\n      <th>razon_social</th>\n      <th>moneda</th>\n      <th>tipo_cambio</th>\n      <th>articulos</th>\n      <th>total</th>\n    </tr>\n  </thead>\n  <tbody>\n    <tr>\n      <th>0</th>\n      <td>FA</td>\n      <td>03/08/2022</td>\n      <td>00003</td>\n      <td>00001102</td>\n      <td>30712226028</td>\n      <td>TERMO-OBRAS SOCIEDAD ANONIMA</td>\n      <td>33709720169</td>\n      <td>DIPLOMATIC SERVICE S.A.</td>\n      <td>USD</td>\n      <td>138.75</td>\n      <td>{'codigo': '', 'producto_servicio': 'Presupuesto nro. 7221-00-22. Reparación de Sistema de VRV DAIKIN 100% | Item 1.', 'cantidad': '1,00', 'unidad_medida': 'unidades', 'precio_unitario': 980.0, '%_bonificacion': '0,00', 'subtotal': 980.0, 'alicuota_iva': '21%', 'subtotal_con_iva': 1185.8}</td>\n      <td>164529.75</td>\n    </tr>\n  </tbody>\n</table>"
     },
     "metadata": {},
     "output_type": "display_data"
    },
    {
     "name": "stdout",
     "output_type": "stream",
     "text": [
      "4 .\\test\\FA. 1103. Diplomatic Service SA - Repuestos DAIKIN.pdf \n",
      "\n"
     ]
    },
    {
     "data": {
      "text/plain": "<IPython.core.display.HTML object>",
      "text/html": "<table border=\"1\" class=\"dataframe\">\n  <thead>\n    <tr style=\"text-align: right;\">\n      <th></th>\n      <th>tipo_factura</th>\n      <th>fecha</th>\n      <th>punto_venta</th>\n      <th>nro_factura</th>\n      <th>cuit_emisor</th>\n      <th>razon_social_emisor</th>\n      <th>cuit_cliente</th>\n      <th>razon_social</th>\n      <th>moneda</th>\n      <th>tipo_cambio</th>\n      <th>articulos</th>\n      <th>total</th>\n    </tr>\n  </thead>\n  <tbody>\n    <tr>\n      <th>0</th>\n      <td>FA</td>\n      <td>03/08/2022</td>\n      <td>00003</td>\n      <td>00001103</td>\n      <td>30712226028</td>\n      <td>TERMO-OBRAS SOCIEDAD ANONIMA</td>\n      <td>33709720169</td>\n      <td>DIPLOMATIC SERVICE S.A.</td>\n      <td>USD</td>\n      <td>138.75</td>\n      <td>{'codigo': '', 'producto_servicio': 'Presupuesto nro. 7221-00-22. Reparación de Sistema de VRV DAIKIN Repuestos', 'cantidad': '1,00', 'unidad_medida': 'unidades', 'precio_unitario': 0.0, '%_bonificacion': '0,00', 'subtotal': 0.0, 'alicuota_iva': '21%', 'subtotal_con_iva': 0.0}</td>\n      <td>1622464.8</td>\n    </tr>\n    <tr>\n      <th>1</th>\n      <td>FA</td>\n      <td>03/08/2022</td>\n      <td>00003</td>\n      <td>00001103</td>\n      <td>30712226028</td>\n      <td>TERMO-OBRAS SOCIEDAD ANONIMA</td>\n      <td>33709720169</td>\n      <td>DIPLOMATIC SERVICE S.A.</td>\n      <td>USD</td>\n      <td>138.75</td>\n      <td>{'codigo': '', 'producto_servicio': '', 'cantidad': '1,00', 'unidad_medida': 'unidades', 'precio_unitario': 0.0, '%_bonificacion': '0,00', 'subtotal': 0.0, 'alicuota_iva': '21%', 'subtotal_con_iva': 0.0}</td>\n      <td>1622464.8</td>\n    </tr>\n    <tr>\n      <th>2</th>\n      <td>FA</td>\n      <td>03/08/2022</td>\n      <td>00003</td>\n      <td>00001103</td>\n      <td>30712226028</td>\n      <td>TERMO-OBRAS SOCIEDAD ANONIMA</td>\n      <td>33709720169</td>\n      <td>DIPLOMATIC SERVICE S.A.</td>\n      <td>USD</td>\n      <td>138.75</td>\n      <td>{'codigo': '', 'producto_servicio': 'Item 2 - Placa de control DAIKIN.', 'cantidad': '3,00', 'unidad_medida': 'unidades', 'precio_unitario': 359.0, '%_bonificacion': '0,00', 'subtotal': 1077.0, 'alicuota_iva': '21%', 'subtotal_con_iva': 1303.17}</td>\n      <td>1622464.8</td>\n    </tr>\n    <tr>\n      <th>3</th>\n      <td>FA</td>\n      <td>03/08/2022</td>\n      <td>00003</td>\n      <td>00001103</td>\n      <td>30712226028</td>\n      <td>TERMO-OBRAS SOCIEDAD ANONIMA</td>\n      <td>33709720169</td>\n      <td>DIPLOMATIC SERVICE S.A.</td>\n      <td>USD</td>\n      <td>138.75</td>\n      <td>{'codigo': '', 'producto_servicio': 'Item 3 - Placa para caja inversora DAIKIN.', 'cantidad': '1,00', 'unidad_medida': 'unidades', 'precio_unitario': 407.0, '%_bonificacion': '0,00', 'subtotal': 407.0, 'alicuota_iva': '21%', 'subtotal_con_iva': 492.47}</td>\n      <td>1622464.8</td>\n    </tr>\n    <tr>\n      <th>4</th>\n      <td>FA</td>\n      <td>03/08/2022</td>\n      <td>00003</td>\n      <td>00001103</td>\n      <td>30712226028</td>\n      <td>TERMO-OBRAS SOCIEDAD ANONIMA</td>\n      <td>33709720169</td>\n      <td>DIPLOMATIC SERVICE S.A.</td>\n      <td>USD</td>\n      <td>138.75</td>\n      <td>{'codigo': '', 'producto_servicio': 'Item 4 - Termostato BRC1E63', 'cantidad': '6,00', 'unidad_medida': 'unidades', 'precio_unitario': 115.0, '%_bonificacion': '0,00', 'subtotal': 690.0, 'alicuota_iva': '21%', 'subtotal_con_iva': 834.9}</td>\n      <td>1622464.8</td>\n    </tr>\n    <tr>\n      <th>5</th>\n      <td>FA</td>\n      <td>03/08/2022</td>\n      <td>00003</td>\n      <td>00001103</td>\n      <td>30712226028</td>\n      <td>TERMO-OBRAS SOCIEDAD ANONIMA</td>\n      <td>33709720169</td>\n      <td>DIPLOMATIC SERVICE S.A.</td>\n      <td>USD</td>\n      <td>138.75</td>\n      <td>{'codigo': '', 'producto_servicio': 'Item 5 - Placa para compresor Inverter DAIKIN.', 'cantidad': '1,00', 'unidad_medida': 'unidades', 'precio_unitario': 1212.0, '%_bonificacion': '0,00', 'subtotal': 1212.0, 'alicuota_iva': '21%', 'subtotal_con_iva': 1466.52}</td>\n      <td>1622464.8</td>\n    </tr>\n    <tr>\n      <th>6</th>\n      <td>FA</td>\n      <td>03/08/2022</td>\n      <td>00003</td>\n      <td>00001103</td>\n      <td>30712226028</td>\n      <td>TERMO-OBRAS SOCIEDAD ANONIMA</td>\n      <td>33709720169</td>\n      <td>DIPLOMATIC SERVICE S.A.</td>\n      <td>USD</td>\n      <td>138.75</td>\n      <td>{'codigo': '', 'producto_servicio': 'Item 7 - Itouch Manager DAIKIN.', 'cantidad': '1,00', 'unidad_medida': 'unidades', 'precio_unitario': 4356.0, '%_bonificacion': '0,00', 'subtotal': 4356.0, 'alicuota_iva': '21%', 'subtotal_con_iva': 5270.76}</td>\n      <td>1622464.8</td>\n    </tr>\n    <tr>\n      <th>7</th>\n      <td>FA</td>\n      <td>03/08/2022</td>\n      <td>00003</td>\n      <td>00001103</td>\n      <td>30712226028</td>\n      <td>TERMO-OBRAS SOCIEDAD ANONIMA</td>\n      <td>33709720169</td>\n      <td>DIPLOMATIC SERVICE S.A.</td>\n      <td>USD</td>\n      <td>138.75</td>\n      <td>{'codigo': '', 'producto_servicio': 'Item 8 - Expansiones de control DAIKIN.', 'cantidad': '2,00', 'unidad_medida': 'unidades', 'precio_unitario': 961.0, '%_bonificacion': '0,00', 'subtotal': 1922.0, 'alicuota_iva': '21%', 'subtotal_con_iva': 2325.62}</td>\n      <td>1622464.8</td>\n    </tr>\n  </tbody>\n</table>"
     },
     "metadata": {},
     "output_type": "display_data"
    },
    {
     "name": "stdout",
     "output_type": "stream",
     "text": [
      "5 .\\test\\NCA. 0116. Gente  Grande SA - Bodega Balbo - Anulacion FA 1093.pdf \n",
      "\n"
     ]
    },
    {
     "data": {
      "text/plain": "<IPython.core.display.HTML object>",
      "text/html": "<table border=\"1\" class=\"dataframe\">\n  <thead>\n    <tr style=\"text-align: right;\">\n      <th></th>\n      <th>tipo_factura</th>\n      <th>fecha</th>\n      <th>punto_venta</th>\n      <th>nro_factura</th>\n      <th>cuit_emisor</th>\n      <th>razon_social_emisor</th>\n      <th>cuit_cliente</th>\n      <th>razon_social</th>\n      <th>moneda</th>\n      <th>tipo_cambio</th>\n      <th>articulos</th>\n      <th>total</th>\n    </tr>\n  </thead>\n  <tbody>\n    <tr>\n      <th>0</th>\n      <td>NCA</td>\n      <td>26/07/2022</td>\n      <td>00003</td>\n      <td>00000116</td>\n      <td>30712226028</td>\n      <td>TERMO-OBRAS SOCIEDAD ANONIMA</td>\n      <td>30712061096</td>\n      <td>GENTE GRANDE SOCIEDAD ANONIMA</td>\n      <td>ARS</td>\n      <td></td>\n      <td>{'codigo': '', 'producto_servicio': 'Anulación de factura 1093', 'cantidad': '1,00', 'unidad_medida': 'unidades', 'precio_unitario': 50690.0, '%_bonificacion': '0,00', 'subtotal': 50690.0, 'alicuota_iva': '21%', 'subtotal_con_iva': 61334.9}</td>\n      <td>61334.9</td>\n    </tr>\n  </tbody>\n</table>"
     },
     "metadata": {},
     "output_type": "display_data"
    },
    {
     "name": "stdout",
     "output_type": "stream",
     "text": [
      "6 .\\test\\NDA. 027. BODEGAS CARO SA - Diferencia cambiaria FA 1064.pdf \n",
      "\n"
     ]
    },
    {
     "data": {
      "text/plain": "<IPython.core.display.HTML object>",
      "text/html": "<table border=\"1\" class=\"dataframe\">\n  <thead>\n    <tr style=\"text-align: right;\">\n      <th></th>\n      <th>tipo_factura</th>\n      <th>fecha</th>\n      <th>punto_venta</th>\n      <th>nro_factura</th>\n      <th>cuit_emisor</th>\n      <th>razon_social_emisor</th>\n      <th>cuit_cliente</th>\n      <th>razon_social</th>\n      <th>moneda</th>\n      <th>tipo_cambio</th>\n      <th>articulos</th>\n      <th>total</th>\n    </tr>\n  </thead>\n  <tbody>\n    <tr>\n      <th>0</th>\n      <td>NDA</td>\n      <td>18/07/2022</td>\n      <td>00003</td>\n      <td>00000027</td>\n      <td>30712226028</td>\n      <td>TERMO-OBRAS SOCIEDAD ANONIMA</td>\n      <td>30708084308</td>\n      <td>BODEGAS CARO SOCIEDAD ANONIMA</td>\n      <td>ARS</td>\n      <td></td>\n      <td>{'codigo': '', 'producto_servicio': 'Diferencia cambiaria FA 1064', 'cantidad': '1,00', 'unidad_medida': 'unidades', 'precio_unitario': 27965.6, '%_bonificacion': '0,00', 'subtotal': 27965.6, 'alicuota_iva': '21%', 'subtotal_con_iva': 33838.38}</td>\n      <td>33838.38</td>\n    </tr>\n  </tbody>\n</table>"
     },
     "metadata": {},
     "output_type": "display_data"
    },
    {
     "name": "stdout",
     "output_type": "stream",
     "text": [
      "7 .\\test\\PR. CAGLIARI LUIS EDUARDO JOSUE. 249.pdf \n",
      "\n"
     ]
    },
    {
     "data": {
      "text/plain": "<IPython.core.display.HTML object>",
      "text/html": "<table border=\"1\" class=\"dataframe\">\n  <thead>\n    <tr style=\"text-align: right;\">\n      <th></th>\n      <th>tipo_factura</th>\n      <th>fecha</th>\n      <th>punto_venta</th>\n      <th>nro_factura</th>\n      <th>cuit_emisor</th>\n      <th>razon_social_emisor</th>\n      <th>cuit_cliente</th>\n      <th>razon_social</th>\n      <th>moneda</th>\n      <th>tipo_cambio</th>\n      <th>articulos</th>\n      <th>total</th>\n    </tr>\n  </thead>\n  <tbody>\n    <tr>\n      <th>0</th>\n      <td>FA</td>\n      <td>05/08/2022</td>\n      <td>00002</td>\n      <td>00000249</td>\n      <td>20308190561</td>\n      <td>CAGLIARI LUIS EDUARDO JOSUE</td>\n      <td>30712226028</td>\n      <td>TERMO-OBRAS SOCIEDAD ANONIMA</td>\n      <td>ARS</td>\n      <td></td>\n      <td>{'codigo': '', 'producto_servicio': 'Anticipo del 40% por fabricación sistema de control UTAS Hospital Diego Paroissien', 'cantidad': '1,00', 'unidad_medida': 'unidades', 'precio_unitario': 360750.0, '%_bonificacion': '0,00', 'subtotal': 360750.0, 'alicuota_iva': '21%', 'subtotal_con_iva': 436507.5}</td>\n      <td>436507.5</td>\n    </tr>\n  </tbody>\n</table>"
     },
     "metadata": {},
     "output_type": "display_data"
    }
   ],
   "source": [
    "from main import main\n",
    "\n",
    "if __name__ == '__main__':\n",
    "    main()\n"
   ]
  }
 ],
 "metadata": {
  "kernelspec": {
   "display_name": "Python 3",
   "language": "python",
   "name": "python3"
  },
  "language_info": {
   "codemirror_mode": {
    "name": "ipython",
    "version": 2
   },
   "file_extension": ".py",
   "mimetype": "text/x-python",
   "name": "python",
   "nbconvert_exporter": "python",
   "pygments_lexer": "ipython2",
   "version": "2.7.6"
  }
 },
 "nbformat": 4,
 "nbformat_minor": 0
}